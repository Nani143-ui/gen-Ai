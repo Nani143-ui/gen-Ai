{
  "nbformat": 4,
  "nbformat_minor": 0,
  "metadata": {
    "colab": {
      "provenance": [],
      "authorship_tag": "ABX9TyOcCc7N29tRT67ED445dBWt",
      "include_colab_link": true
    },
    "kernelspec": {
      "name": "python3",
      "display_name": "Python 3"
    },
    "language_info": {
      "name": "python"
    }
  },
  "cells": [
    {
      "cell_type": "markdown",
      "metadata": {
        "id": "view-in-github",
        "colab_type": "text"
      },
      "source": [
        "<a href=\"https://colab.research.google.com/github/Nani143-ui/gen-Ai/blob/main/Untitled35.ipynb\" target=\"_parent\"><img src=\"https://colab.research.google.com/assets/colab-badge.svg\" alt=\"Open In Colab\"/></a>"
      ]
    },
    {
      "cell_type": "code",
      "execution_count": 12,
      "metadata": {
        "colab": {
          "base_uri": "https://localhost:8080/"
        },
        "id": "qDPV_xaYp9Mw",
        "outputId": "d862b561-048c-4e2b-e467-d39345eac240"
      },
      "outputs": [
        {
          "output_type": "stream",
          "name": "stderr",
          "text": [
            "No model was supplied, defaulted to distilbert/distilbert-base-uncased-finetuned-sst-2-english and revision 714eb0f (https://huggingface.co/distilbert/distilbert-base-uncased-finetuned-sst-2-english).\n",
            "Using a pipeline without specifying a model name and revision in production is not recommended.\n",
            "Device set to use cpu\n"
          ]
        },
        {
          "output_type": "stream",
          "name": "stdout",
          "text": [
            "sentiment Analysis:\n",
            "Input :I am fell shy\n",
            "Sentiment :NEGATIVE\n"
          ]
        }
      ],
      "source": [
        "from transformers import pipeline\n",
        "sentiment_analyzer = pipeline(\"sentiment-analysis\")\n",
        "text = \"I am fell shy\"\n",
        "sentiment_result=sentiment_analyzer(text)\n",
        "print(\"sentiment Analysis:\")\n",
        "print(f\"Input :{text}\")\n",
        "print(f\"Sentiment :{sentiment_result[0]['label']}\")\n",
        "#print(f\"Score :{sentiment_result[0]['score']:.3f}"
      ]
    },
    {
      "cell_type": "code",
      "source": [
        "#english to french\n",
        "translator_en_to_fr=pipeline(\"translation_en_to_fr\",model=\"Helsinki-NLP/opus-mt-en-fr\")\n",
        "translator_output=translator_en_to_fr(text)\n",
        "print(\"Translation:\")\n",
        "print(f\"Input :{text}\")\n",
        "print(f\"Translation :{translator_output[0]['translation_text']}\")"
      ],
      "metadata": {
        "colab": {
          "base_uri": "https://localhost:8080/"
        },
        "id": "wNLT1PptvevX",
        "outputId": "af238158-bb15-448a-88b3-0501701592c9"
      },
      "execution_count": 20,
      "outputs": [
        {
          "output_type": "stream",
          "name": "stderr",
          "text": [
            "Device set to use cpu\n"
          ]
        },
        {
          "output_type": "stream",
          "name": "stdout",
          "text": [
            "Translation:\n",
            "Input :I am fell shy\n",
            "Translation :Je suis tombé timide\n"
          ]
        }
      ]
    }
  ]
}
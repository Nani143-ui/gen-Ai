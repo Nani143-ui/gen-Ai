{
  "nbformat": 4,
  "nbformat_minor": 0,
  "metadata": {
    "colab": {
      "provenance": [],
      "authorship_tag": "ABX9TyMEcLrZh3cfj9OKPBasMGrN",
      "include_colab_link": true
    },
    "kernelspec": {
      "name": "python3",
      "display_name": "Python 3"
    },
    "language_info": {
      "name": "python"
    }
  },
  "cells": [
    {
      "cell_type": "markdown",
      "metadata": {
        "id": "view-in-github",
        "colab_type": "text"
      },
      "source": [
        "<a href=\"https://colab.research.google.com/github/Nani143-ui/gen-Ai/blob/main/introduction_session(GAi).ipynb\" target=\"_parent\"><img src=\"https://colab.research.google.com/assets/colab-badge.svg\" alt=\"Open In Colab\"/></a>"
      ]
    },
    {
      "cell_type": "code",
      "execution_count": null,
      "metadata": {
        "id": "IwaGGeJLr2uN"
      },
      "outputs": [],
      "source": [
        "n=input()\n",
        "sq=n*0.5\n",
        "print(\"the square root of %0.3f is %0.3f\"%(n,sq))"
      ]
    },
    {
      "cell_type": "code",
      "metadata": {
        "id": "HgmiP8YEtdqO",
        "colab": {
          "base_uri": "https://localhost:8080/"
        },
        "outputId": "a549dc48-7f82-47e9-ae67-aea11dd7663a"
      },
      "source": [
        "num1 = int(input())\n",
        "num2 = int(input())\n",
        "print('Before: num1 = {} and num2 = {}'.format(num1, num2))\n",
        "temp = num1\n",
        "num1 = num2\n",
        "num2 = temp\n",
        "print('After: num1 = {} and num2 = {}'.format(num1, num2))"
      ],
      "execution_count": null,
      "outputs": [
        {
          "output_type": "stream",
          "name": "stdout",
          "text": [
            "4\n",
            "5\n",
            "Before: num1 = 4 and num2 = 5\n",
            "After: num1 = 5 and num2 = 4\n"
          ]
        }
      ]
    },
    {
      "cell_type": "code",
      "source": [
        "num = float(input(\"Enter a number: \"))\n",
        "if num > 0:\n",
        "  print(\"Positive number\")\n",
        "elif num == 0:\n",
        "  print(\"Zero\")\n",
        "else:\n",
        "  print(\"Negative number\")"
      ],
      "metadata": {
        "id": "tclX9WqCuoC1",
        "colab": {
          "base_uri": "https://localhost:8080/"
        },
        "outputId": "99a574e2-8b91-49c0-9ba9-06777e095edf"
      },
      "execution_count": null,
      "outputs": [
        {
          "output_type": "stream",
          "name": "stdout",
          "text": [
            "Enter a number: 5\n",
            "Positive number\n",
            "Enter a number: 6\n",
            "Positive number\n"
          ]
        }
      ]
    },
    {
      "cell_type": "code",
      "source": [
        "n=int(input())\n",
        "if n%2==0:\n",
        "  print(\"even\")\n",
        "else:\n",
        "      print(\"odd\")"
      ],
      "metadata": {
        "id": "yzojDYqvwCqF",
        "colab": {
          "base_uri": "https://localhost:8080/"
        },
        "outputId": "edcb8dd7-9e6a-40c1-bf86-df52b2cff244"
      },
      "execution_count": 7,
      "outputs": [
        {
          "output_type": "stream",
          "name": "stdout",
          "text": [
            "5\n",
            "odd\n"
          ]
        }
      ]
    },
    {
      "cell_type": "code",
      "source": [
        "import pandas as pd\n",
        "data={'name':['tom','nick','krish','jack'],'age':[20,21,19,18],'city':['new york','london','paris','uk']}\n",
        "df=pd.DataFrame(data)\n",
        "print(df)"
      ],
      "metadata": {
        "colab": {
          "base_uri": "https://localhost:8080/"
        },
        "id": "IFnxikWByUdF",
        "outputId": "6fc12c2c-94a3-455a-b563-ea092eca52b5"
      },
      "execution_count": 8,
      "outputs": [
        {
          "output_type": "stream",
          "name": "stdout",
          "text": [
            "    name  age      city\n",
            "0    tom   20  new york\n",
            "1   nick   21    london\n",
            "2  krish   19     paris\n",
            "3   jack   18        uk\n"
          ]
        }
      ]
    },
    {
      "cell_type": "code",
      "source": [],
      "metadata": {
        "id": "7Vv-VWsRyl10"
      },
      "execution_count": null,
      "outputs": []
    }
  ]
}